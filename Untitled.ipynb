{
 "cells": [
  {
   "cell_type": "code",
   "execution_count": 1,
   "id": "4c2928ea",
   "metadata": {},
   "outputs": [],
   "source": [
    "from nltk.stem import WordNetLemmatizer"
   ]
  },
  {
   "cell_type": "code",
   "execution_count": 2,
   "id": "eac6abb9",
   "metadata": {},
   "outputs": [],
   "source": [
    "lemmatizer = WordNetLemmatizer()"
   ]
  },
  {
   "cell_type": "code",
   "execution_count": 3,
   "id": "0e7fe19c",
   "metadata": {},
   "outputs": [],
   "source": [
    "words = [\"python\",\"pythoner\",\"pythoned\",\"pythones\",\"cats\",\"dogs\",\"rocked\",\"very\",\"low\",\"heights\",\"backed\",\"dancing\"]"
   ]
  },
  {
   "cell_type": "code",
   "execution_count": 4,
   "id": "cef71a67",
   "metadata": {},
   "outputs": [
    {
     "name": "stdout",
     "output_type": "stream",
     "text": [
      "python\n",
      "pythoner\n",
      "pythoned\n",
      "pythones\n",
      "cat\n",
      "dog\n",
      "rocked\n",
      "very\n",
      "low\n",
      "height\n",
      "backed\n",
      "dancing\n"
     ]
    }
   ],
   "source": [
    "for i in words:\n",
    "    print(lemmatizer.lemmatize(i))"
   ]
  },
  {
   "cell_type": "code",
   "execution_count": null,
   "id": "41b19924",
   "metadata": {},
   "outputs": [],
   "source": []
  }
 ],
 "metadata": {
  "kernelspec": {
   "display_name": "Python 3",
   "language": "python",
   "name": "python3"
  },
  "language_info": {
   "codemirror_mode": {
    "name": "ipython",
    "version": 3
   },
   "file_extension": ".py",
   "mimetype": "text/x-python",
   "name": "python",
   "nbconvert_exporter": "python",
   "pygments_lexer": "ipython3",
   "version": "3.8.8"
  }
 },
 "nbformat": 4,
 "nbformat_minor": 5
}
